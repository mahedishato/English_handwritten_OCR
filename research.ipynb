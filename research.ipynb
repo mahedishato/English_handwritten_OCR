{
 "cells": [
  {
   "cell_type": "code",
   "execution_count": null,
   "metadata": {},
   "outputs": [],
   "source": []
  },
  {
   "cell_type": "code",
   "execution_count": 3,
   "metadata": {},
   "outputs": [
    {
     "name": "stderr",
     "output_type": "stream",
     "text": [
      "2024-02-28 11:45:15.829934: W tensorflow/stream_executor/platform/default/dso_loader.cc:64] Could not load dynamic library 'libcuda.so.1'; dlerror: libcuda.so.1: cannot open shared object file: No such file or directory\n",
      "2024-02-28 11:45:15.830006: W tensorflow/stream_executor/cuda/cuda_driver.cc:263] failed call to cuInit: UNKNOWN ERROR (303)\n",
      "2024-02-28 11:45:15.830043: I tensorflow/stream_executor/cuda/cuda_diagnostics.cc:156] kernel driver does not appear to be running on this host (mahedi-HP-Laptop-15s-fq5xxx): /proc/driver/nvidia/version does not exist\n"
     ]
    },
    {
     "name": "stdout",
     "output_type": "stream",
     "text": [
      "librosa not found. Please install it with `pip install librosa` if you plan to use it.\n",
      "librosa not found. Please install it with `pip install librosa` if you plan to use it.\n",
      "librosa not found. Please install it with `pip install librosa` if you plan to use it.\n"
     ]
    }
   ],
   "source": [
    "import tensorflow as tf\n",
    "try: [tf.config.experimental.set_memory_growth(gpu, True) for gpu in tf.config.experimental.list_physical_devices(\"GPU\")]\n",
    "except: pass\n",
    "\n",
    "from keras.callbacks import EarlyStopping, ModelCheckpoint, ReduceLROnPlateau, TensorBoard\n",
    "\n",
    "from mltu.tensorflow.dataProvider import DataProvider\n",
    "from mltu.tensorflow.losses import CTCloss\n",
    "from mltu.tensorflow.callbacks import Model2onnx, TrainLogger\n",
    "from mltu.tensorflow.metrics import CWERMetric\n",
    "\n",
    "from mltu.preprocessors import ImageReader\n",
    "from mltu.transformers import ImageResizer, LabelIndexer, LabelPadding\n",
    "from mltu.augmentors import RandomBrightness, RandomRotate, RandomErodeDilate\n",
    "from mltu.annotations.images import CVImage\n",
    "\n",
    "from model import train_model\n",
    "from configs import ModelConfigs\n",
    "\n",
    "import os\n",
    "from urllib.request import urlopen\n",
    "from io import BytesIO\n",
    "from zipfile import ZipFile\n",
    "\n",
    "\n",
    "def download_and_unzip(url, extract_to=\"Datasets\"):\n",
    "    http_response = urlopen(url)\n",
    "    zipfile = ZipFile(BytesIO(http_response.read()))\n",
    "    zipfile.extractall(path=extract_to)\n",
    "\n",
    "\n",
    "if not os.path.exists(os.path.join(\"Datasets\", \"captcha_images_v2\")):\n",
    "    download_and_unzip(\"https://github.com/AakashKumarNain/CaptchaCracker/raw/master/captcha_images_v2.zip\",\n",
    "                       extract_to=\"Datasets\")"
   ]
  },
  {
   "cell_type": "code",
   "execution_count": 4,
   "metadata": {},
   "outputs": [],
   "source": [
    "dataset, vocab, max_len = [], set(), 0\n",
    "captcha_path = os.path.join(\"Datasets\", \"captcha_images_v2\")\n",
    "for file in os.listdir(captcha_path):\n",
    "    file_path = os.path.join(captcha_path, file)\n",
    "    label = os.path.splitext(file)[0] # Get the file name without the extension\n",
    "    dataset.append([file_path, label])\n",
    "    vocab.update(list(label))\n",
    "    max_len = max(max_len, len(label))"
   ]
  },
  {
   "cell_type": "code",
   "execution_count": 9,
   "metadata": {},
   "outputs": [
    {
     "data": {
      "text/html": [
       "<div>\n",
       "<style scoped>\n",
       "    .dataframe tbody tr th:only-of-type {\n",
       "        vertical-align: middle;\n",
       "    }\n",
       "\n",
       "    .dataframe tbody tr th {\n",
       "        vertical-align: top;\n",
       "    }\n",
       "\n",
       "    .dataframe thead th {\n",
       "        text-align: right;\n",
       "    }\n",
       "</style>\n",
       "<table border=\"1\" class=\"dataframe\">\n",
       "  <thead>\n",
       "    <tr style=\"text-align: right;\">\n",
       "      <th></th>\n",
       "      <th>0</th>\n",
       "      <th>1</th>\n",
       "    </tr>\n",
       "  </thead>\n",
       "  <tbody>\n",
       "    <tr>\n",
       "      <th>0</th>\n",
       "      <td>Datasets/captcha_images_v2/6ydyp.png</td>\n",
       "      <td>6ydyp</td>\n",
       "    </tr>\n",
       "    <tr>\n",
       "      <th>1</th>\n",
       "      <td>Datasets/captcha_images_v2/wf684.png</td>\n",
       "      <td>wf684</td>\n",
       "    </tr>\n",
       "    <tr>\n",
       "      <th>2</th>\n",
       "      <td>Datasets/captcha_images_v2/befbd.png</td>\n",
       "      <td>befbd</td>\n",
       "    </tr>\n",
       "    <tr>\n",
       "      <th>3</th>\n",
       "      <td>Datasets/captcha_images_v2/b4ncn.png</td>\n",
       "      <td>b4ncn</td>\n",
       "    </tr>\n",
       "    <tr>\n",
       "      <th>4</th>\n",
       "      <td>Datasets/captcha_images_v2/cnmnn.png</td>\n",
       "      <td>cnmnn</td>\n",
       "    </tr>\n",
       "    <tr>\n",
       "      <th>...</th>\n",
       "      <td>...</td>\n",
       "      <td>...</td>\n",
       "    </tr>\n",
       "    <tr>\n",
       "      <th>1035</th>\n",
       "      <td>Datasets/captcha_images_v2/wc2bd.png</td>\n",
       "      <td>wc2bd</td>\n",
       "    </tr>\n",
       "    <tr>\n",
       "      <th>1036</th>\n",
       "      <td>Datasets/captcha_images_v2/n8ydd.png</td>\n",
       "      <td>n8ydd</td>\n",
       "    </tr>\n",
       "    <tr>\n",
       "      <th>1037</th>\n",
       "      <td>Datasets/captcha_images_v2/ncww7.png</td>\n",
       "      <td>ncww7</td>\n",
       "    </tr>\n",
       "    <tr>\n",
       "      <th>1038</th>\n",
       "      <td>Datasets/captcha_images_v2/yd3m3.png</td>\n",
       "      <td>yd3m3</td>\n",
       "    </tr>\n",
       "    <tr>\n",
       "      <th>1039</th>\n",
       "      <td>Datasets/captcha_images_v2/xw465.png</td>\n",
       "      <td>xw465</td>\n",
       "    </tr>\n",
       "  </tbody>\n",
       "</table>\n",
       "<p>1040 rows × 2 columns</p>\n",
       "</div>"
      ],
      "text/plain": [
       "                                         0      1\n",
       "0     Datasets/captcha_images_v2/6ydyp.png  6ydyp\n",
       "1     Datasets/captcha_images_v2/wf684.png  wf684\n",
       "2     Datasets/captcha_images_v2/befbd.png  befbd\n",
       "3     Datasets/captcha_images_v2/b4ncn.png  b4ncn\n",
       "4     Datasets/captcha_images_v2/cnmnn.png  cnmnn\n",
       "...                                    ...    ...\n",
       "1035  Datasets/captcha_images_v2/wc2bd.png  wc2bd\n",
       "1036  Datasets/captcha_images_v2/n8ydd.png  n8ydd\n",
       "1037  Datasets/captcha_images_v2/ncww7.png  ncww7\n",
       "1038  Datasets/captcha_images_v2/yd3m3.png  yd3m3\n",
       "1039  Datasets/captcha_images_v2/xw465.png  xw465\n",
       "\n",
       "[1040 rows x 2 columns]"
      ]
     },
     "execution_count": 9,
     "metadata": {},
     "output_type": "execute_result"
    }
   ],
   "source": [
    "import pandas as pd\n",
    "\n",
    "pd.DataFrame(dataset)"
   ]
  },
  {
   "cell_type": "code",
   "execution_count": 8,
   "metadata": {},
   "outputs": [
    {
     "data": {
      "text/plain": [
       "19"
      ]
     },
     "execution_count": 8,
     "metadata": {},
     "output_type": "execute_result"
    }
   ],
   "source": [
    "len(vocab)"
   ]
  },
  {
   "cell_type": "code",
   "execution_count": 7,
   "metadata": {},
   "outputs": [
    {
     "data": {
      "text/plain": [
       "5"
      ]
     },
     "execution_count": 7,
     "metadata": {},
     "output_type": "execute_result"
    }
   ],
   "source": [
    "max_len"
   ]
  },
  {
   "cell_type": "code",
   "execution_count": null,
   "metadata": {},
   "outputs": [],
   "source": []
  }
 ],
 "metadata": {
  "kernelspec": {
   "display_name": "Python 3",
   "language": "python",
   "name": "python3"
  },
  "language_info": {
   "codemirror_mode": {
    "name": "ipython",
    "version": 3
   },
   "file_extension": ".py",
   "mimetype": "text/x-python",
   "name": "python",
   "nbconvert_exporter": "python",
   "pygments_lexer": "ipython3",
   "version": "3.9.18"
  }
 },
 "nbformat": 4,
 "nbformat_minor": 2
}
